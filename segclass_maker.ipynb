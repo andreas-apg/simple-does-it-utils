{
 "cells": [
  {
   "cell_type": "code",
   "execution_count": 4,
   "id": "adb27e0d",
   "metadata": {},
   "outputs": [],
   "source": [
    "import cv2\n",
    "import numpy as np\n",
    "import matplotlib.pyplot as plt\n",
    "import imgaug as ia\n",
    "import torch\n",
    "import pandas as pd\n",
    "import os\n",
    "import glob\n",
    "import os\n",
    "import warnings"
   ]
  },
  {
   "cell_type": "code",
   "execution_count": 29,
   "id": "d15bc0f6",
   "metadata": {},
   "outputs": [],
   "source": [
    "def bb_midpoint_to_corner(bb):\n",
    "    label = bb[0]\n",
    "    x1 = bb[1] - bb[3]/2\n",
    "    x2 = bb[1] + bb[3]/2\n",
    "    y1 = bb[2] - bb[4]/2\n",
    "    y2 = bb[2] + bb[4]/2\n",
    "    # A: area will only be used for sorting\n",
    "    area = bb[3]*bb[4]\n",
    "    corner_list = [label, x1, x2, y1, y2, area]\n",
    "    return np.array(corner_list)\n",
    "\n",
    "def open_yolo_sort(path, image_name):\n",
    "    try:\n",
    "        image = cv2.imread(path + image_name)\n",
    "        shape = image.shape\n",
    "        width = shape[1]\n",
    "        height = shape[0]\n",
    "        label = path + os.path.splitext(image_name)[0] + \".txt\"\n",
    "        boxes = np.genfromtxt(label, delimiter=' ')\n",
    "        bb = boxes\n",
    "        # reshaping the np array is necessary in case a file with a single box is read\n",
    "        boxes = boxes.reshape(boxes.size//5, 5)\n",
    "        #print(boxes.shape)\n",
    "        boxes = np.apply_along_axis(bb_midpoint_to_corner, axis=1, arr=boxes)\n",
    "        # A: sorting by area\n",
    "        boxes = boxes[boxes[:, 5].argsort()]\n",
    "        # A: reversing the sorted list so bigger areas come first\n",
    "        boxes = boxes[::-1]\n",
    "        return image, boxes, width, height\n",
    "    except Exception as e:\n",
    "        #print(e)\n",
    "        print(image_name)\n",
    "        return image, None, None, None\n",
    "\n",
    "def create_segclass(image_path, save_path, image_name):\n",
    "    image, bb, w, h = open_yolo_sort(image_path, image_name)\n",
    "    image_copy = image.copy()*0 \n",
    "    if bb is not None:       \n",
    "        for label, x1, x2, y1, y2, area in bb:\n",
    "            # A: the white outline with four pixels of thickness\n",
    "            cv2.rectangle(image_copy, (int(x1*w), int(y1*h)), (int(x2*w), int(y2*h)), (255, 255, 255), 4)\n",
    "            # A: the class coded filing, specified by -1\n",
    "            cv2.rectangle(image_copy, (int(x1*w), int(y1*h)), (int(x2*w), int(y2*h)), colors[int(label)], -1)\n",
    "        image_copy = cv2.cvtColor(image_copy, cv2.COLOR_BGR2RGB)\n",
    "        cv2.imwrite(save_path + os.path.splitext(image_name)[0] + \".png\", image_copy)\n",
    "    else:\n",
    "        cv2.imwrite(save_path + os.path.splitext(image_name)[0] +\".png\", image_copy)\n",
    "\n",
    "def create_segclass_filtered(image_path, save_path, image_name, filter_list):\n",
    "    image, bb, w, h = open_yolo_sort(image_path, image_name)\n",
    "    image_copy = image.copy()*0 \n",
    "    if bb is not None:       \n",
    "        for label, x1, x2, y1, y2, area in bb:\n",
    "            if label in filter_list:\n",
    "                # A: the white outline with four pixels of thickness\n",
    "                cv2.rectangle(image_copy, (int(x1*w), int(y1*h)), (int(x2*w), int(y2*h)), (255, 255, 255), 4)\n",
    "                # A: the class coded filing, specified by -1\n",
    "                cv2.rectangle(image_copy, (int(x1*w), int(y1*h)), (int(x2*w), int(y2*h)), colors[int(label)], -1)\n",
    "        image_copy = cv2.cvtColor(image_copy, cv2.COLOR_BGR2RGB)\n",
    "        cv2.imwrite(save_path + os.path.splitext(image_name)[0] + \".png\", image_copy)\n",
    "    else:\n",
    "        cv2.imwrite(save_path + os.path.splitext(image_name)[0] +\".png\", image_copy)\n",
    "\n",
    "#colors = [  (128, 0, 0),     # Chave seccionadora lamina (Aberta)\n",
    "#            (0, 128, 0),     # Chave seccionadora lamina (Fechada)\n",
    "#            (128, 128, 0),   # Chave seccionadora tandem (Aberta)\n",
    "#            (0, 0, 128),     # Chave seccionadora tandem (Fechada)\n",
    "#            (128, 0, 128),   # Disjuntor\n",
    "#            (0, 128, 128),   # Fusivel\n",
    "#            (128, 128, 128), # Isolador disco de vidro\n",
    "#            (64, 0, 0),      # Isolador pino de porcelana\n",
    "#            (192, 0, 0),     # Mufla\n",
    "#            (64, 128, 0),    # Para-raio\n",
    "#            (192, 128, 0),   # Religador\n",
    "#            (64, 0, 128),    # Transformador\n",
    "#            (192, 0, 128),   # Transformador de Corrente (TC)\n",
    "#            (64, 128, 128),  # Transformador de Potencial (TP) \n",
    "#         ]\n",
    "\n",
    "colors = [(162, 0, 255), # Chave seccionadora lamina (Aberta)\n",
    "         (97, 16, 162),   # Chave seccionadora lamina (Fechada)\n",
    "         (81, 162, 0),    # Chave seccionadora tandem (Aberta)\n",
    "         (48, 97, 165),   # Chave seccionadora tandem (Fechada)\n",
    "         (121, 121, 121), # Disjuntor\n",
    "         (255, 97, 178),  # Fusivel\n",
    "         (154, 32, 121),  # Isolador disco de vidro\n",
    "         (255, 255, 125), # Isolador pino de porcelana\n",
    "         (162, 243, 162), # Mufla\n",
    "         (143, 211, 255), # Para-raio\n",
    "         (40, 0, 186),    # Religador\n",
    "         (255, 182, 0),   # Transformador\n",
    "         (138, 138, 0),   # Transformador de Corrente (TC)\n",
    "         (162, 48, 0),    # Transformador de Potencial (TP)\n",
    "         (162, 0, 96)     # Chave tripolar\n",
    "         ] "
   ]
  },
  {
   "cell_type": "code",
   "execution_count": 36,
   "id": "e03fc6d1",
   "metadata": {},
   "outputs": [
    {
     "name": "stdout",
     "output_type": "stream",
     "text": [
      "created folder:  ../data/isolador_porcelana/valid/\n"
     ]
    }
   ],
   "source": [
    "# paths = [\"/home/jovyan/work/yolo_og/yolov3/Data/15_classes/train/\",            # 2363\n",
    "#         \"/home/jovyan/work/yolo_og/yolov3/Data/15_classes/flir_train/\",       # 1083\n",
    "#         \"/home/jovyan/work/yolo_og/yolov3/Data/15_classes/night_train/\",      # 479\n",
    "#         \"/home/jovyan/work/yolo_og/yolov3/Data/15_classes/tripolares_train/\", # 879\n",
    "#         \"/home/jovyan/work/yolo_og/yolov3/Data/15_classes/fake_night/\"]       # 311\n",
    "\n",
    "paths = [\"../data/valid/\"]\n",
    "\n",
    "filter_list = [7] # isolador pino de porcelana\n",
    "save_path = \"../data/isolador_porcelana/valid/\"\n",
    "\n",
    "check_path = os.path.isdir(save_path)\n",
    "if not check_path:\n",
    "    os.makedirs(save_path)\n",
    "    print(\"created folder: \", save_path) \n",
    "#label_path = \"../data/labels_17class/\"\n",
    "for image_path in paths:\n",
    "    file_list = os.path.join(os.path.join(image_path, \"*.*\"))\n",
    "    image_list = []\n",
    "    file_list = glob.glob(file_list)\n",
    "    for name in file_list:\n",
    "        if \"txt\" not in name:\n",
    "            image_list.append(name.split(\"/\")[-1])\n",
    "\n",
    "    for file in image_list:\n",
    "        create_segclass_filtered(image_path, save_path, file, filter_list)"
   ]
  },
  {
   "cell_type": "code",
   "execution_count": 34,
   "id": "1f2b4e86",
   "metadata": {},
   "outputs": [],
   "source": []
  },
  {
   "cell_type": "code",
   "execution_count": 28,
   "id": "4f16a950",
   "metadata": {},
   "outputs": [],
   "source": [
    "# which classes we want to keep\n",
    "\n"
   ]
  },
  {
   "cell_type": "code",
   "execution_count": null,
   "id": "9433f84d",
   "metadata": {},
   "outputs": [],
   "source": [
    "1081\n",
    "20210713_150012.jpg\n",
    "20210713_144845.jpg\n",
    "IMG_20201215_140429_8.jpg"
   ]
  },
  {
   "cell_type": "code",
   "execution_count": null,
   "id": "2b36cc65",
   "metadata": {},
   "outputs": [],
   "source": [
    "Created dir /home/jovyan/work/deeplab/data/segmentation_train/\n",
    "2749\n",
    "FLIR6234_rgb.jpg\n",
    "FLIR6230_rgb.jpg\n",
    "FLIR6208_rgb.jpg\n",
    "FLIR6951_rgb.jpg\n",
    "FLIR6206_rgb.jpg\n",
    "FLIR6212_rgb.jpg\n",
    "FLIR6215_rgb.jpg\n",
    "FLIR6211_rgb.jpg\n",
    "FLIR6248_rgb.jpg\n",
    "FLIR6911_rgb.jpg\n",
    "FLIR6207_rgb.jpg\n",
    "FLIR6224_rgb.jpg\n",
    "FLIR6244_rgb.jpg\n",
    "FLIR6213_rgb.jpg\n",
    "FLIR7279_rgb.jpg\n",
    "FLIR6217_rgb.jpg\n",
    "FLIR8103_rgb_29kooNB.jpg\n",
    "FLIR6239_rgb.jpg\n",
    "FLIR6231_rgb.jpg\n",
    "FLIR6251_rgb.jpg\n",
    "FLIR6229_rgb.jpg\n",
    "FLIR6240_rgb.jpg\n",
    "FLIR6227_rgb.jpg\n",
    "FLIR6247_rgb.jpg\n",
    "FLIR6216_rgb.jpg\n",
    "FLIR6249_rgb.jpg\n",
    "FLIR7285_rgb.jpg\n",
    "FLIR6243_rgb.jpg\n",
    "FLIR6233_rgb.jpg\n",
    "FLIR6241_rgb.jpg\n",
    "FLIR6225_rgb.jpg\n",
    "FLIR6228_rgb.jpg\n",
    "FLIR6246_rgb.jpg\n",
    "FLIR6232_rgb.jpg\n",
    "FLIR6237_rgb.jpg\n",
    "FLIR6252_rgb.jpg\n",
    "FLIR6220_rgb.jpg\n",
    "FLIR6242_rgb.jpg\n",
    "FLIR6235_rgb.jpg\n",
    "FLIR6223_rgb.jpg\n",
    "FLIR6238_rgb.jpg\n",
    "FLIR6222_rgb.jpg\n",
    "FLIR6218_rgb.jpg\n",
    "FLIR6214_rgb.jpg\n",
    "FLIR6219_rgb.jpg\n",
    "FLIR6209_rgb.jpg\n",
    "FLIR7393_rgb_TiS9xrQ.jpg\n",
    "FLIR6221_rgb.jpg\n",
    "FLIR6245_rgb.jpg\n",
    "FLIR6226_rgb.jpg\n",
    "FLIR6250_rgb.jpg"
   ]
  },
  {
   "cell_type": "code",
   "execution_count": 24,
   "id": "47164434",
   "metadata": {},
   "outputs": [
    {
     "name": "stdout",
     "output_type": "stream",
     "text": [
      "20210811_095738(0).jpg\n",
      "FLIR1592_rgb.jpg\n",
      "FLIR5933_rgb.jpg\n",
      "20210811_095746(0).jpg\n",
      "FLIR5953_rgb.jpg\n",
      "202107131447265099453.jpg\n",
      "20210805_100133.jpg\n",
      "20210721_113736.jpg\n",
      "20210811_094309(0).jpg\n",
      "FLIR1873_rgb.jpg\n",
      "FLIR1389_rgb.jpg\n",
      "20210713_144843.jpg\n",
      "FLIR5940_rgb.jpg\n",
      "FLIR1271_rgb.jpg\n",
      "20210811_095715.jpg\n",
      "20210811_091939.jpg\n",
      "FLIR1938_rgb.jpg\n",
      "20210811_095439.jpg\n",
      "20210721_113656.jpg\n",
      "IMG_0956.JPEG\n",
      "FLIR0406_rgb.jpg\n"
     ]
    }
   ],
   "source": [
    "for image in image_list[916:]:\n",
    "    print(image)"
   ]
  },
  {
   "cell_type": "code",
   "execution_count": 148,
   "id": "83d1b619",
   "metadata": {},
   "outputs": [
    {
     "name": "stdout",
     "output_type": "stream",
     "text": [
      "'NoneType' object has no attribute 'shape'\n",
      "FLIR6106_rgb\n"
     ]
    }
   ],
   "source": [
    "# A: reading the image\n",
    "object_path = \"/home/jovyan/work/yolo_og/yolov3/Data/14_classes/flir_train/\"\n",
    "save_path = \"./segmentation_class/\"\n",
    "img_name = \"FLIR6106_rgb\"\n",
    "img, bb, w, h = open_yolo_sort(object_dir, img_name)"
   ]
  },
  {
   "cell_type": "code",
   "execution_count": 94,
   "id": "642f5030",
   "metadata": {},
   "outputs": [
    {
     "name": "stdout",
     "output_type": "stream",
     "text": [
      "0.08472467239600001\n",
      "0.003808575\n",
      "0.001464875\n"
     ]
    },
    {
     "data": {
      "image/png": "[encoded data removed]",
      "text/plain": [
       "<Figure size 720x288 with 1 Axes>"
      ]
     },
     "metadata": {
      "needs_background": "light"
     },
     "output_type": "display_data"
    },
    {
     "data": {
      "text/plain": [
       "True"
      ]
     },
     "execution_count": 94,
     "metadata": {},
     "output_type": "execute_result"
    }
   ],
   "source": [
    "img_copy = img.copy()*0\n",
    "for label, x1, x2, y1, y2, area in bb:\n",
    "    print(area)\n",
    "    # A: the whiteish outline with four pixels of thickness\n",
    "    cv2.rectangle(img_copy, (int(x1*w), int(y1*h)), (int(x2*w), int(y2*h)), (224, 224, 192), 4)\n",
    "    # A: the class coded filing, specified by -1\n",
    "    cv2.rectangle(img_copy, (int(x1*w), int(y1*h)), (int(x2*w), int(y2*h)), colors[int(label)], -1)\n",
    "# A: displaying the images\n",
    "#fig = plt.figure(figsize=(10,4))\n",
    "#ax = fig.add_subplot()\n",
    "#ax.imshow(img_copy)\n",
    "#plt.show()\n",
    "cv2.imwrite(save_path + img_name + \".jpg\", img_copy)"
   ]
  },
  {
   "cell_type": "code",
   "execution_count": 173,
   "id": "783f6a7f",
   "metadata": {},
   "outputs": [],
   "source": []
  },
  {
   "cell_type": "code",
   "execution_count": 287,
   "id": "3ba7a170",
   "metadata": {},
   "outputs": [
    {
     "data": {
      "image/png": "[encoded data removed]",
      "text/plain": [
       "<Figure size 720x288 with 1 Axes>"
      ]
     },
     "metadata": {
      "needs_background": "light"
     },
     "output_type": "display_data"
    }
   ],
   "source": [
    "image = cv2.imread(\"target.png\")\n",
    "\n",
    "# A: displaying the images\n",
    "fig = plt.figure(figsize=(10,4))\n",
    "ax = fig.add_subplot()\n",
    "ax.imshow(image)\n",
    "plt.show()"
   ]
  },
  {
   "cell_type": "code",
   "execution_count": 362,
   "id": "2144fb7e",
   "metadata": {},
   "outputs": [
    {
     "data": {
      "image/png": "[encoded data removed]",
      "text/plain": [
       "<Figure size 720x288 with 2 Axes>"
      ]
     },
     "metadata": {
      "needs_background": "light"
     },
     "output_type": "display_data"
    },
    {
     "data": {
      "text/plain": [
       "True"
      ]
     },
     "execution_count": 362,
     "metadata": {},
     "output_type": "execute_result"
    }
   ],
   "source": [
    "image2 = cv2.imread(\"target2.png\")\n",
    "image =   np.asarray([[  (0, 0, 0),\n",
    "                         (162, 0, 255), # Chave seccionadora lamina (Aberta)\n",
    "                         (97, 16, 162),   # Chave seccionadora lamina (Fechada)\n",
    "                         (81, 162, 0)],    # Chave seccionadora tandem (Aberta)\n",
    "                         [(48, 97, 165),   # Chave seccionadora tandem (Fechada)\n",
    "                         (121, 121, 121), # Disjuntor\n",
    "                         (255, 97, 178),  # Fusivel\n",
    "                         (154, 32, 121)],  # Isolador disco de vidro\n",
    "                         [(255, 255, 125), # Isolador pino de porcelana\n",
    "                         (162, 243, 162), # Mufla\n",
    "                         (143, 211, 255), # Para-raio\n",
    "                         (40, 0, 186)],    # Religador\n",
    "                         [(255, 182, 0),   # Transformador\n",
    "                         (138, 138, 0),   # Transformador de Corrente (TC)\n",
    "                         (162, 48, 0),\n",
    "                         (255, 255, 255)]])    # Transformador de Potencial (TP)\n",
    "# A: displaying the images\n",
    "fig = plt.figure(figsize=(10,4))\n",
    "ax = fig.add_subplot(121)\n",
    "ax.imshow(image)\n",
    "ax = fig.add_subplot(122)\n",
    "ax.imshow(cv2.cvtColor(image2, cv2.COLOR_BGR2RGB))\n",
    "plt.show()\n",
    "cv2.imwrite(\"target_bgr.png\", image2)\n",
    "cv2.imwrite(\"target_rgb.png\", cv2.cvtColor(image2, cv2.COLOR_BGR2RGB))"
   ]
  },
  {
   "cell_type": "code",
   "execution_count": 225,
   "id": "67fd38fa",
   "metadata": {},
   "outputs": [],
   "source": [
    "from collections import namedtuple\n",
    "\n",
    "CustomClass = namedtuple('CustomClass', ['name', 'id', 'color'])\n",
    "classes = [CustomClass('background',          255, (0, 0, 0)),      # Background\n",
    "           CustomClass('c. lamina (aberta)',  0,  (128, 0, 0)),    # Chave seccionadora lamina (Aberta)\n",
    "           CustomClass('c. lamina (fechada)', 1,  (0, 128, 0)),    # Chave seccionadora lamina (Fechada)\n",
    "           CustomClass('c. tandem (aberta)',  2,  (128, 128, 0)),  # Chave seccionadora tandem (Aberta)\n",
    "           CustomClass('c. tandem (fechada)', 3,  (0, 0, 128)),    # Chave seccionadora tandem (Fechada)\n",
    "           CustomClass('disjuntor',           4,  (128, 0, 128)),  # Disjuntor\n",
    "           CustomClass('fusivel',             5,  (0, 128, 128)),  # Fusivel\n",
    "           CustomClass('isolador vidro',      6,  (128, 128, 128)),# Isolador disco de vidro\n",
    "           CustomClass('isolador porcelana',  7,  (64, 0, 0)),     # Isolador pino de porcelana\n",
    "           CustomClass('mufla',               8,  (192, 0, 0)),    # Mufla\n",
    "           CustomClass('para-raio',           9,  (64, 128, 0)),   # Para-raio\n",
    "           CustomClass('religador',           10, (192, 128, 0)),  # Religador\n",
    "           CustomClass('transformador',       11, (64, 0, 128)),   # Transformador\n",
    "           CustomClass('TC',                  12, (192, 0, 128)),  # Transformador de Corrente (TC)\n",
    "           CustomClass('TP',                  13, (64, 128, 128))  # Transformador de Potencial (TP) \n",
    "          ]\n",
    "\n",
    "id_to_color = [c.color for c in classes]\n",
    "color_to_id = [c.id for c in classes]"
   ]
  },
  {
   "cell_type": "code",
   "execution_count": 333,
   "id": "934192bc",
   "metadata": {},
   "outputs": [],
   "source": [
    "def get_labels():\n",
    "    \"\"\"Load the mapping that associates classes with label colors.\n",
    "       Our electrical substation dataset has 14 objects + background.\n",
    "    Returns:\n",
    "        np.ndarray with dimensions (15, 3)\n",
    "    \"\"\"\n",
    "    return np.asarray([ (0, 0, 0),       # Background\n",
    "                        (162, 0, 255),   # Chave seccionadora lamina (Aberta)\n",
    "                        (97, 16, 162),   # Chave seccionadora lamina (Fechada)\n",
    "                        (81, 162, 0),    # Chave seccionadora tandem (Aberta)\n",
    "                        (48, 97, 165),   # Chave seccionadora tandem (Fechada)\n",
    "                        (121, 121, 121), # Disjuntor\n",
    "                        (255, 97, 178),  # Fusivel\n",
    "                        (154, 32, 121),  # Isolador disco de vidro\n",
    "                        (255, 255, 125), # Isolador pino de porcelana\n",
    "                        (162, 243, 162), # Mufla\n",
    "                        (143, 211, 255), # Para-raio\n",
    "                        (40, 0, 186),    # Religador\n",
    "                        (255, 182, 0),   # Transformador\n",
    "                        (138, 138, 0),   # Transformador de Corrente (TC)\n",
    "                        (162, 48, 0)]    # Transformador de Potencial (TP)\n",
    "                        )"
   ]
  },
  {
   "cell_type": "code",
   "execution_count": 339,
   "id": "10744c61",
   "metadata": {},
   "outputs": [],
   "source": [
    "def decode_target(label_mask):\n",
    "    \"\"\"Decode segmentation class labels into a color image\n",
    "    Args:\n",
    "        label_mask (np.ndarray): an (M,N) array of integer values denoting\n",
    "          the class label at each spatial location.\n",
    "    Returns:\n",
    "        (np.ndarray): the resulting decoded color image.\n",
    "    \"\"\"\n",
    "    label_colors = get_labels()\n",
    "    r = label_mask.copy()\n",
    "    g = label_mask.copy()\n",
    "    b = label_mask.copy()\n",
    "    for l in range(0, len(label_colors)):\n",
    "        r[label_mask == l] = label_colors[l, 0]\n",
    "        g[label_mask == l] = label_colors[l, 1]\n",
    "        b[label_mask == l] = label_colors[l, 2]\n",
    "    rgb = np.zeros((label_mask.shape[0], label_mask.shape[1], 3))\n",
    "    rgb[:, :, 0] = r\n",
    "    rgb[:, :, 1] = g\n",
    "    rgb[:, :, 2] = b\n",
    "    return rgb"
   ]
  },
  {
   "cell_type": "code",
   "execution_count": 343,
   "id": "ced53694",
   "metadata": {},
   "outputs": [
    {
     "data": {
      "text/plain": [
       "array([[ 0,  1,  2,  3],\n",
       "       [ 4,  5,  6,  7],\n",
       "       [ 8,  9, 10, 11],\n",
       "       [12, 13, 14,  0]])"
      ]
     },
     "execution_count": 343,
     "metadata": {},
     "output_type": "execute_result"
    }
   ],
   "source": [
    "def encode_target(mask):\n",
    "    \"\"\"Encode segmentation label images as classes\n",
    "    Args:\n",
    "        mask (np.ndarray): raw segmentation label image of dimension\n",
    "          (M, N, 3), in which the classes are encoded as colors.\n",
    "    Returns:\n",
    "        (np.ndarray): class map with dimensions (M,N), where the value at\n",
    "        a given location is the integer denoting the class index.\n",
    "    \"\"\"\n",
    "    mask = mask.astype(int)\n",
    "    label_mask = np.zeros((mask.shape[0], mask.shape[1]), dtype=np.int16)\n",
    "    for i, label in enumerate(get_labels()):\n",
    "        label_mask[np.where(np.all(mask == label, axis=-1))[:2]] = i\n",
    "    label_mask = label_mask.astype(int)\n",
    "    return label_mask\n",
    "\n",
    "en = encode_target(image)\n",
    "en"
   ]
  },
  {
   "cell_type": "code",
   "execution_count": 344,
   "id": "317fc845",
   "metadata": {},
   "outputs": [
    {
     "data": {
      "text/plain": [
       "array([[[  0.,   0.,   0.],\n",
       "        [162.,   0., 255.],\n",
       "        [ 97.,  16., 162.],\n",
       "        [ 81., 162.,   0.]],\n",
       "\n",
       "       [[ 48.,  97., 165.],\n",
       "        [121., 121., 121.],\n",
       "        [255.,  97., 178.],\n",
       "        [154.,  32., 121.]],\n",
       "\n",
       "       [[255., 255., 125.],\n",
       "        [162., 243., 162.],\n",
       "        [143., 211., 255.],\n",
       "        [ 40.,   0., 186.]],\n",
       "\n",
       "       [[255., 182.,   0.],\n",
       "        [138., 138.,   0.],\n",
       "        [162.,  48.,   0.],\n",
       "        [  0.,   0.,   0.]]])"
      ]
     },
     "execution_count": 344,
     "metadata": {},
     "output_type": "execute_result"
    }
   ],
   "source": [
    "decode_target(en)"
   ]
  },
  {
   "cell_type": "code",
   "execution_count": 227,
   "id": "41b5f228",
   "metadata": {},
   "outputs": [
    {
     "ename": "TypeError",
     "evalue": "'list' object is not callable",
     "output_type": "error",
     "traceback": [
      "\u001b[0;31m---------------------------------------------------------------------------\u001b[0m",
      "\u001b[0;31mTypeError\u001b[0m                                 Traceback (most recent call last)",
      "\u001b[0;32m/tmp/ipykernel_33026/3083740910.py\u001b[0m in \u001b[0;36m<module>\u001b[0;34m\u001b[0m\n\u001b[0;32m----> 1\u001b[0;31m \u001b[0mcolor_to_id\u001b[0m\u001b[0;34m(\u001b[0m\u001b[0mimage\u001b[0m\u001b[0;34m)\u001b[0m\u001b[0;34m\u001b[0m\u001b[0;34m\u001b[0m\u001b[0m\n\u001b[0m",
      "\u001b[0;31mTypeError\u001b[0m: 'list' object is not callable"
     ]
    }
   ],
   "source": [
    "color_to_id(image)"
   ]
  },
  {
   "cell_type": "code",
   "execution_count": 352,
   "id": "67f4ddb8",
   "metadata": {},
   "outputs": [
    {
     "data": {
      "text/plain": [
       "array([[[  0,   0,   0],\n",
       "        [162,   0, 255],\n",
       "        [ 97,  16, 162],\n",
       "        [ 81, 162,   0]],\n",
       "\n",
       "       [[ 48,  97, 165],\n",
       "        [121, 121, 121],\n",
       "        [255,  97, 178],\n",
       "        [154,  32, 121]],\n",
       "\n",
       "       [[255, 255, 125],\n",
       "        [162, 243, 162],\n",
       "        [143, 211, 255],\n",
       "        [ 40,   0, 186]],\n",
       "\n",
       "       [[255, 182,   0],\n",
       "        [138, 138,   0],\n",
       "        [162,  48,   0],\n",
       "        [255, 255, 255]]])"
      ]
     },
     "execution_count": 352,
     "metadata": {},
     "output_type": "execute_result"
    }
   ],
   "source": [
    "image"
   ]
  }
 ],
 "metadata": {
  "kernelspec": {
   "display_name": "Python 3 (ipykernel)",
   "language": "python",
   "name": "python3"
  },
  "language_info": {
   "codemirror_mode": {
    "name": "ipython",
    "version": 3
   },
   "file_extension": ".py",
   "mimetype": "text/x-python",
   "name": "python",
   "nbconvert_exporter": "python",
   "pygments_lexer": "ipython3",
   "version": "3.8.8"
  }
 },
 "nbformat": 4,
 "nbformat_minor": 5
}
